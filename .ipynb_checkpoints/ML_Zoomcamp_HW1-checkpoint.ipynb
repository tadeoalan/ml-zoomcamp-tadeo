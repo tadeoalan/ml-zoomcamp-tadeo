{
 "cells": [
  {
   "cell_type": "markdown",
   "id": "09dcaffc-76b2-428b-9d5b-e88d07a773ef",
   "metadata": {},
   "source": [
    "# Homework 1\n",
    "\n",
    "Tadeo Alan"
   ]
  },
  {
   "cell_type": "code",
   "execution_count": 35,
   "id": "48a782f5-97b1-4955-8cea-97acb67c2a05",
   "metadata": {},
   "outputs": [],
   "source": [
    "import pandas as pd\n",
    "import numpy as np"
   ]
  },
  {
   "cell_type": "code",
   "execution_count": 3,
   "id": "9b5ebe8c-0b8a-4440-ade2-ef8c70d47153",
   "metadata": {},
   "outputs": [
    {
     "data": {
      "text/plain": [
       "'2.2.2'"
      ]
     },
     "execution_count": 3,
     "metadata": {},
     "output_type": "execute_result"
    }
   ],
   "source": [
    "pd.__version__"
   ]
  },
  {
   "cell_type": "code",
   "execution_count": 4,
   "id": "f4df6f3c-323f-4f70-aff4-4eba1d9c04d9",
   "metadata": {},
   "outputs": [],
   "source": [
    "df = pd.read_csv(\"laptops.csv\")"
   ]
  },
  {
   "cell_type": "code",
   "execution_count": 8,
   "id": "33497353-727e-4f5a-a09a-7d492ca93db9",
   "metadata": {},
   "outputs": [
    {
     "data": {
      "text/html": [
       "<div>\n",
       "<style scoped>\n",
       "    .dataframe tbody tr th:only-of-type {\n",
       "        vertical-align: middle;\n",
       "    }\n",
       "\n",
       "    .dataframe tbody tr th {\n",
       "        vertical-align: top;\n",
       "    }\n",
       "\n",
       "    .dataframe thead th {\n",
       "        text-align: right;\n",
       "    }\n",
       "</style>\n",
       "<table border=\"1\" class=\"dataframe\">\n",
       "  <thead>\n",
       "    <tr style=\"text-align: right;\">\n",
       "      <th></th>\n",
       "      <th>Laptop</th>\n",
       "      <th>Status</th>\n",
       "      <th>Brand</th>\n",
       "      <th>Model</th>\n",
       "      <th>CPU</th>\n",
       "      <th>RAM</th>\n",
       "      <th>Storage</th>\n",
       "      <th>Storage type</th>\n",
       "      <th>GPU</th>\n",
       "      <th>Screen</th>\n",
       "      <th>Touch</th>\n",
       "      <th>Final Price</th>\n",
       "    </tr>\n",
       "  </thead>\n",
       "  <tbody>\n",
       "    <tr>\n",
       "      <th>0</th>\n",
       "      <td>ASUS ExpertBook B1 B1502CBA-EJ0436X Intel Core...</td>\n",
       "      <td>New</td>\n",
       "      <td>Asus</td>\n",
       "      <td>ExpertBook</td>\n",
       "      <td>Intel Core i5</td>\n",
       "      <td>8</td>\n",
       "      <td>512</td>\n",
       "      <td>SSD</td>\n",
       "      <td>NaN</td>\n",
       "      <td>15.6</td>\n",
       "      <td>No</td>\n",
       "      <td>1009.00</td>\n",
       "    </tr>\n",
       "    <tr>\n",
       "      <th>1</th>\n",
       "      <td>Alurin Go Start Intel Celeron N4020/8GB/256GB ...</td>\n",
       "      <td>New</td>\n",
       "      <td>Alurin</td>\n",
       "      <td>Go</td>\n",
       "      <td>Intel Celeron</td>\n",
       "      <td>8</td>\n",
       "      <td>256</td>\n",
       "      <td>SSD</td>\n",
       "      <td>NaN</td>\n",
       "      <td>15.6</td>\n",
       "      <td>No</td>\n",
       "      <td>299.00</td>\n",
       "    </tr>\n",
       "    <tr>\n",
       "      <th>2</th>\n",
       "      <td>ASUS ExpertBook B1 B1502CBA-EJ0424X Intel Core...</td>\n",
       "      <td>New</td>\n",
       "      <td>Asus</td>\n",
       "      <td>ExpertBook</td>\n",
       "      <td>Intel Core i3</td>\n",
       "      <td>8</td>\n",
       "      <td>256</td>\n",
       "      <td>SSD</td>\n",
       "      <td>NaN</td>\n",
       "      <td>15.6</td>\n",
       "      <td>No</td>\n",
       "      <td>789.00</td>\n",
       "    </tr>\n",
       "    <tr>\n",
       "      <th>3</th>\n",
       "      <td>MSI Katana GF66 12UC-082XES Intel Core i7-1270...</td>\n",
       "      <td>New</td>\n",
       "      <td>MSI</td>\n",
       "      <td>Katana</td>\n",
       "      <td>Intel Core i7</td>\n",
       "      <td>16</td>\n",
       "      <td>1000</td>\n",
       "      <td>SSD</td>\n",
       "      <td>RTX 3050</td>\n",
       "      <td>15.6</td>\n",
       "      <td>No</td>\n",
       "      <td>1199.00</td>\n",
       "    </tr>\n",
       "    <tr>\n",
       "      <th>4</th>\n",
       "      <td>HP 15S-FQ5085NS Intel Core i5-1235U/16GB/512GB...</td>\n",
       "      <td>New</td>\n",
       "      <td>HP</td>\n",
       "      <td>15S</td>\n",
       "      <td>Intel Core i5</td>\n",
       "      <td>16</td>\n",
       "      <td>512</td>\n",
       "      <td>SSD</td>\n",
       "      <td>NaN</td>\n",
       "      <td>15.6</td>\n",
       "      <td>No</td>\n",
       "      <td>669.01</td>\n",
       "    </tr>\n",
       "    <tr>\n",
       "      <th>...</th>\n",
       "      <td>...</td>\n",
       "      <td>...</td>\n",
       "      <td>...</td>\n",
       "      <td>...</td>\n",
       "      <td>...</td>\n",
       "      <td>...</td>\n",
       "      <td>...</td>\n",
       "      <td>...</td>\n",
       "      <td>...</td>\n",
       "      <td>...</td>\n",
       "      <td>...</td>\n",
       "      <td>...</td>\n",
       "    </tr>\n",
       "    <tr>\n",
       "      <th>2155</th>\n",
       "      <td>Razer Blade 17 FHD 360Hz Intel Core i7-11800H/...</td>\n",
       "      <td>Refurbished</td>\n",
       "      <td>Razer</td>\n",
       "      <td>Blade</td>\n",
       "      <td>Intel Core i7</td>\n",
       "      <td>16</td>\n",
       "      <td>1000</td>\n",
       "      <td>SSD</td>\n",
       "      <td>RTX 3060</td>\n",
       "      <td>17.3</td>\n",
       "      <td>No</td>\n",
       "      <td>2699.99</td>\n",
       "    </tr>\n",
       "    <tr>\n",
       "      <th>2156</th>\n",
       "      <td>Razer Blade 17 FHD 360Hz Intel Core i7-11800H/...</td>\n",
       "      <td>Refurbished</td>\n",
       "      <td>Razer</td>\n",
       "      <td>Blade</td>\n",
       "      <td>Intel Core i7</td>\n",
       "      <td>16</td>\n",
       "      <td>1000</td>\n",
       "      <td>SSD</td>\n",
       "      <td>RTX 3070</td>\n",
       "      <td>17.3</td>\n",
       "      <td>No</td>\n",
       "      <td>2899.99</td>\n",
       "    </tr>\n",
       "    <tr>\n",
       "      <th>2157</th>\n",
       "      <td>Razer Blade 17 FHD 360Hz Intel Core i7-11800H/...</td>\n",
       "      <td>Refurbished</td>\n",
       "      <td>Razer</td>\n",
       "      <td>Blade</td>\n",
       "      <td>Intel Core i7</td>\n",
       "      <td>32</td>\n",
       "      <td>1000</td>\n",
       "      <td>SSD</td>\n",
       "      <td>RTX 3080</td>\n",
       "      <td>17.3</td>\n",
       "      <td>No</td>\n",
       "      <td>3399.99</td>\n",
       "    </tr>\n",
       "    <tr>\n",
       "      <th>2158</th>\n",
       "      <td>Razer Book 13 Intel Evo Core i7-1165G7/16GB/1T...</td>\n",
       "      <td>Refurbished</td>\n",
       "      <td>Razer</td>\n",
       "      <td>Book</td>\n",
       "      <td>Intel Evo Core i7</td>\n",
       "      <td>16</td>\n",
       "      <td>1000</td>\n",
       "      <td>SSD</td>\n",
       "      <td>NaN</td>\n",
       "      <td>13.4</td>\n",
       "      <td>Yes</td>\n",
       "      <td>1899.99</td>\n",
       "    </tr>\n",
       "    <tr>\n",
       "      <th>2159</th>\n",
       "      <td>Razer Book FHD+ Intel Evo Core i7-1165G7/16GB/...</td>\n",
       "      <td>Refurbished</td>\n",
       "      <td>Razer</td>\n",
       "      <td>Book</td>\n",
       "      <td>Intel Evo Core i7</td>\n",
       "      <td>16</td>\n",
       "      <td>256</td>\n",
       "      <td>SSD</td>\n",
       "      <td>NaN</td>\n",
       "      <td>13.4</td>\n",
       "      <td>Yes</td>\n",
       "      <td>1699.99</td>\n",
       "    </tr>\n",
       "  </tbody>\n",
       "</table>\n",
       "<p>2160 rows × 12 columns</p>\n",
       "</div>"
      ],
      "text/plain": [
       "                                                 Laptop       Status   Brand  \\\n",
       "0     ASUS ExpertBook B1 B1502CBA-EJ0436X Intel Core...          New    Asus   \n",
       "1     Alurin Go Start Intel Celeron N4020/8GB/256GB ...          New  Alurin   \n",
       "2     ASUS ExpertBook B1 B1502CBA-EJ0424X Intel Core...          New    Asus   \n",
       "3     MSI Katana GF66 12UC-082XES Intel Core i7-1270...          New     MSI   \n",
       "4     HP 15S-FQ5085NS Intel Core i5-1235U/16GB/512GB...          New      HP   \n",
       "...                                                 ...          ...     ...   \n",
       "2155  Razer Blade 17 FHD 360Hz Intel Core i7-11800H/...  Refurbished   Razer   \n",
       "2156  Razer Blade 17 FHD 360Hz Intel Core i7-11800H/...  Refurbished   Razer   \n",
       "2157  Razer Blade 17 FHD 360Hz Intel Core i7-11800H/...  Refurbished   Razer   \n",
       "2158  Razer Book 13 Intel Evo Core i7-1165G7/16GB/1T...  Refurbished   Razer   \n",
       "2159  Razer Book FHD+ Intel Evo Core i7-1165G7/16GB/...  Refurbished   Razer   \n",
       "\n",
       "           Model                CPU  RAM  Storage Storage type       GPU  \\\n",
       "0     ExpertBook      Intel Core i5    8      512          SSD       NaN   \n",
       "1             Go      Intel Celeron    8      256          SSD       NaN   \n",
       "2     ExpertBook      Intel Core i3    8      256          SSD       NaN   \n",
       "3         Katana      Intel Core i7   16     1000          SSD  RTX 3050   \n",
       "4            15S      Intel Core i5   16      512          SSD       NaN   \n",
       "...          ...                ...  ...      ...          ...       ...   \n",
       "2155       Blade      Intel Core i7   16     1000          SSD  RTX 3060   \n",
       "2156       Blade      Intel Core i7   16     1000          SSD  RTX 3070   \n",
       "2157       Blade      Intel Core i7   32     1000          SSD  RTX 3080   \n",
       "2158        Book  Intel Evo Core i7   16     1000          SSD       NaN   \n",
       "2159        Book  Intel Evo Core i7   16      256          SSD       NaN   \n",
       "\n",
       "      Screen Touch  Final Price  \n",
       "0       15.6    No      1009.00  \n",
       "1       15.6    No       299.00  \n",
       "2       15.6    No       789.00  \n",
       "3       15.6    No      1199.00  \n",
       "4       15.6    No       669.01  \n",
       "...      ...   ...          ...  \n",
       "2155    17.3    No      2699.99  \n",
       "2156    17.3    No      2899.99  \n",
       "2157    17.3    No      3399.99  \n",
       "2158    13.4   Yes      1899.99  \n",
       "2159    13.4   Yes      1699.99  \n",
       "\n",
       "[2160 rows x 12 columns]"
      ]
     },
     "execution_count": 8,
     "metadata": {},
     "output_type": "execute_result"
    }
   ],
   "source": [
    "df"
   ]
  },
  {
   "cell_type": "code",
   "execution_count": 9,
   "id": "f2744f0b-dab7-496f-a630-3a8b83ebf96d",
   "metadata": {},
   "outputs": [
    {
     "data": {
      "text/html": [
       "<div>\n",
       "<style scoped>\n",
       "    .dataframe tbody tr th:only-of-type {\n",
       "        vertical-align: middle;\n",
       "    }\n",
       "\n",
       "    .dataframe tbody tr th {\n",
       "        vertical-align: top;\n",
       "    }\n",
       "\n",
       "    .dataframe thead th {\n",
       "        text-align: right;\n",
       "    }\n",
       "</style>\n",
       "<table border=\"1\" class=\"dataframe\">\n",
       "  <thead>\n",
       "    <tr style=\"text-align: right;\">\n",
       "      <th></th>\n",
       "      <th>Laptop</th>\n",
       "      <th>Status</th>\n",
       "      <th>Brand</th>\n",
       "      <th>Model</th>\n",
       "      <th>CPU</th>\n",
       "      <th>RAM</th>\n",
       "      <th>Storage</th>\n",
       "      <th>Storage type</th>\n",
       "      <th>GPU</th>\n",
       "      <th>Screen</th>\n",
       "      <th>Touch</th>\n",
       "      <th>Final Price</th>\n",
       "    </tr>\n",
       "  </thead>\n",
       "  <tbody>\n",
       "    <tr>\n",
       "      <th>0</th>\n",
       "      <td>ASUS ExpertBook B1 B1502CBA-EJ0436X Intel Core...</td>\n",
       "      <td>New</td>\n",
       "      <td>Asus</td>\n",
       "      <td>ExpertBook</td>\n",
       "      <td>Intel Core i5</td>\n",
       "      <td>8</td>\n",
       "      <td>512</td>\n",
       "      <td>SSD</td>\n",
       "      <td>NaN</td>\n",
       "      <td>15.6</td>\n",
       "      <td>No</td>\n",
       "      <td>1009.00</td>\n",
       "    </tr>\n",
       "    <tr>\n",
       "      <th>1</th>\n",
       "      <td>Alurin Go Start Intel Celeron N4020/8GB/256GB ...</td>\n",
       "      <td>New</td>\n",
       "      <td>Alurin</td>\n",
       "      <td>Go</td>\n",
       "      <td>Intel Celeron</td>\n",
       "      <td>8</td>\n",
       "      <td>256</td>\n",
       "      <td>SSD</td>\n",
       "      <td>NaN</td>\n",
       "      <td>15.6</td>\n",
       "      <td>No</td>\n",
       "      <td>299.00</td>\n",
       "    </tr>\n",
       "    <tr>\n",
       "      <th>2</th>\n",
       "      <td>ASUS ExpertBook B1 B1502CBA-EJ0424X Intel Core...</td>\n",
       "      <td>New</td>\n",
       "      <td>Asus</td>\n",
       "      <td>ExpertBook</td>\n",
       "      <td>Intel Core i3</td>\n",
       "      <td>8</td>\n",
       "      <td>256</td>\n",
       "      <td>SSD</td>\n",
       "      <td>NaN</td>\n",
       "      <td>15.6</td>\n",
       "      <td>No</td>\n",
       "      <td>789.00</td>\n",
       "    </tr>\n",
       "    <tr>\n",
       "      <th>3</th>\n",
       "      <td>MSI Katana GF66 12UC-082XES Intel Core i7-1270...</td>\n",
       "      <td>New</td>\n",
       "      <td>MSI</td>\n",
       "      <td>Katana</td>\n",
       "      <td>Intel Core i7</td>\n",
       "      <td>16</td>\n",
       "      <td>1000</td>\n",
       "      <td>SSD</td>\n",
       "      <td>RTX 3050</td>\n",
       "      <td>15.6</td>\n",
       "      <td>No</td>\n",
       "      <td>1199.00</td>\n",
       "    </tr>\n",
       "    <tr>\n",
       "      <th>4</th>\n",
       "      <td>HP 15S-FQ5085NS Intel Core i5-1235U/16GB/512GB...</td>\n",
       "      <td>New</td>\n",
       "      <td>HP</td>\n",
       "      <td>15S</td>\n",
       "      <td>Intel Core i5</td>\n",
       "      <td>16</td>\n",
       "      <td>512</td>\n",
       "      <td>SSD</td>\n",
       "      <td>NaN</td>\n",
       "      <td>15.6</td>\n",
       "      <td>No</td>\n",
       "      <td>669.01</td>\n",
       "    </tr>\n",
       "  </tbody>\n",
       "</table>\n",
       "</div>"
      ],
      "text/plain": [
       "                                              Laptop Status   Brand  \\\n",
       "0  ASUS ExpertBook B1 B1502CBA-EJ0436X Intel Core...    New    Asus   \n",
       "1  Alurin Go Start Intel Celeron N4020/8GB/256GB ...    New  Alurin   \n",
       "2  ASUS ExpertBook B1 B1502CBA-EJ0424X Intel Core...    New    Asus   \n",
       "3  MSI Katana GF66 12UC-082XES Intel Core i7-1270...    New     MSI   \n",
       "4  HP 15S-FQ5085NS Intel Core i5-1235U/16GB/512GB...    New      HP   \n",
       "\n",
       "        Model            CPU  RAM  Storage Storage type       GPU  Screen  \\\n",
       "0  ExpertBook  Intel Core i5    8      512          SSD       NaN    15.6   \n",
       "1          Go  Intel Celeron    8      256          SSD       NaN    15.6   \n",
       "2  ExpertBook  Intel Core i3    8      256          SSD       NaN    15.6   \n",
       "3      Katana  Intel Core i7   16     1000          SSD  RTX 3050    15.6   \n",
       "4         15S  Intel Core i5   16      512          SSD       NaN    15.6   \n",
       "\n",
       "  Touch  Final Price  \n",
       "0    No      1009.00  \n",
       "1    No       299.00  \n",
       "2    No       789.00  \n",
       "3    No      1199.00  \n",
       "4    No       669.01  "
      ]
     },
     "execution_count": 9,
     "metadata": {},
     "output_type": "execute_result"
    }
   ],
   "source": [
    "df.head()"
   ]
  },
  {
   "cell_type": "code",
   "execution_count": 10,
   "id": "0445305e-b2a5-4c39-bfd7-776a109ee416",
   "metadata": {},
   "outputs": [
    {
     "data": {
      "text/plain": [
       "0         Asus\n",
       "1       Alurin\n",
       "2         Asus\n",
       "3          MSI\n",
       "4           HP\n",
       "         ...  \n",
       "2155     Razer\n",
       "2156     Razer\n",
       "2157     Razer\n",
       "2158     Razer\n",
       "2159     Razer\n",
       "Name: Brand, Length: 2160, dtype: object"
      ]
     },
     "execution_count": 10,
     "metadata": {},
     "output_type": "execute_result"
    }
   ],
   "source": [
    "df.Brand"
   ]
  },
  {
   "cell_type": "code",
   "execution_count": 13,
   "id": "cb9cac76-5d35-476d-84ec-ca10ac0ea4e0",
   "metadata": {},
   "outputs": [
    {
     "data": {
      "text/plain": [
       "array(['Asus', 'Alurin', 'MSI', 'HP', 'Lenovo', 'Medion', 'Acer', 'Apple',\n",
       "       'Razer', 'Gigabyte', 'Dell', 'LG', 'Samsung', 'PcCom', 'Microsoft',\n",
       "       'Primux', 'Prixton', 'Dynabook Toshiba', 'Thomson', 'Denver',\n",
       "       'Deep Gaming', 'Vant', 'Innjoo', 'Jetwing', 'Millenium', 'Realme',\n",
       "       'Toshiba'], dtype=object)"
      ]
     },
     "execution_count": 13,
     "metadata": {},
     "output_type": "execute_result"
    }
   ],
   "source": [
    "df.Brand.unique()"
   ]
  },
  {
   "cell_type": "code",
   "execution_count": 14,
   "id": "302dc67d-5468-46eb-bcbe-ba8322441e20",
   "metadata": {},
   "outputs": [
    {
     "data": {
      "text/plain": [
       "27"
      ]
     },
     "execution_count": 14,
     "metadata": {},
     "output_type": "execute_result"
    }
   ],
   "source": [
    "len(df.Brand.unique())"
   ]
  },
  {
   "cell_type": "code",
   "execution_count": 16,
   "id": "2d494fe5-2a6e-47b2-96ff-ea13704b60cf",
   "metadata": {},
   "outputs": [
    {
     "name": "stdout",
     "output_type": "stream",
     "text": [
      "Laptop          False\n",
      "Status          False\n",
      "Brand           False\n",
      "Model           False\n",
      "CPU             False\n",
      "RAM             False\n",
      "Storage         False\n",
      "Storage type     True\n",
      "GPU              True\n",
      "Screen           True\n",
      "Touch           False\n",
      "Final Price     False\n",
      "dtype: bool\n"
     ]
    }
   ],
   "source": [
    "print(df.isnull().any())"
   ]
  },
  {
   "cell_type": "code",
   "execution_count": 19,
   "id": "4cf6373a-4a2a-4ce7-a299-b1113c0e9a66",
   "metadata": {},
   "outputs": [
    {
     "data": {
      "text/html": [
       "<div>\n",
       "<style scoped>\n",
       "    .dataframe tbody tr th:only-of-type {\n",
       "        vertical-align: middle;\n",
       "    }\n",
       "\n",
       "    .dataframe tbody tr th {\n",
       "        vertical-align: top;\n",
       "    }\n",
       "\n",
       "    .dataframe thead th {\n",
       "        text-align: right;\n",
       "    }\n",
       "</style>\n",
       "<table border=\"1\" class=\"dataframe\">\n",
       "  <thead>\n",
       "    <tr style=\"text-align: right;\">\n",
       "      <th></th>\n",
       "      <th>Laptop</th>\n",
       "      <th>Status</th>\n",
       "      <th>Brand</th>\n",
       "      <th>Model</th>\n",
       "      <th>CPU</th>\n",
       "      <th>RAM</th>\n",
       "      <th>Storage</th>\n",
       "      <th>Storage type</th>\n",
       "      <th>GPU</th>\n",
       "      <th>Screen</th>\n",
       "      <th>Touch</th>\n",
       "      <th>Final Price</th>\n",
       "    </tr>\n",
       "  </thead>\n",
       "  <tbody>\n",
       "    <tr>\n",
       "      <th>161</th>\n",
       "      <td>Dell Vostro 3510 Intel Core i3-1115G4/8 GB/256...</td>\n",
       "      <td>New</td>\n",
       "      <td>Dell</td>\n",
       "      <td>Vostro</td>\n",
       "      <td>Intel Core i3</td>\n",
       "      <td>8</td>\n",
       "      <td>256</td>\n",
       "      <td>SSD</td>\n",
       "      <td>NaN</td>\n",
       "      <td>15.6</td>\n",
       "      <td>No</td>\n",
       "      <td>599.00</td>\n",
       "    </tr>\n",
       "    <tr>\n",
       "      <th>271</th>\n",
       "      <td>Dell Vostro 3510 Intel Core i5-1135G7/8 GB/256...</td>\n",
       "      <td>New</td>\n",
       "      <td>Dell</td>\n",
       "      <td>Vostro</td>\n",
       "      <td>Intel Core i5</td>\n",
       "      <td>8</td>\n",
       "      <td>256</td>\n",
       "      <td>SSD</td>\n",
       "      <td>NaN</td>\n",
       "      <td>15.6</td>\n",
       "      <td>No</td>\n",
       "      <td>690.15</td>\n",
       "    </tr>\n",
       "    <tr>\n",
       "      <th>281</th>\n",
       "      <td>Dell Vostro 3520 Intel Core i7-1255U/16GB/512G...</td>\n",
       "      <td>New</td>\n",
       "      <td>Dell</td>\n",
       "      <td>Vostro</td>\n",
       "      <td>Intel Core i7</td>\n",
       "      <td>16</td>\n",
       "      <td>512</td>\n",
       "      <td>SSD</td>\n",
       "      <td>NaN</td>\n",
       "      <td>15.6</td>\n",
       "      <td>No</td>\n",
       "      <td>889.00</td>\n",
       "    </tr>\n",
       "    <tr>\n",
       "      <th>319</th>\n",
       "      <td>Dell Latitude 3520 Intel Core i5-1135G7/8GB/25...</td>\n",
       "      <td>New</td>\n",
       "      <td>Dell</td>\n",
       "      <td>Latitude</td>\n",
       "      <td>Intel Core i5</td>\n",
       "      <td>8</td>\n",
       "      <td>256</td>\n",
       "      <td>SSD</td>\n",
       "      <td>NaN</td>\n",
       "      <td>15.6</td>\n",
       "      <td>No</td>\n",
       "      <td>789.00</td>\n",
       "    </tr>\n",
       "    <tr>\n",
       "      <th>328</th>\n",
       "      <td>Dell Vostro 3510 Intel Core i5-1135G7/16 GB/51...</td>\n",
       "      <td>New</td>\n",
       "      <td>Dell</td>\n",
       "      <td>Vostro</td>\n",
       "      <td>Intel Core i5</td>\n",
       "      <td>16</td>\n",
       "      <td>512</td>\n",
       "      <td>SSD</td>\n",
       "      <td>NaN</td>\n",
       "      <td>15.6</td>\n",
       "      <td>No</td>\n",
       "      <td>869.00</td>\n",
       "    </tr>\n",
       "    <tr>\n",
       "      <th>...</th>\n",
       "      <td>...</td>\n",
       "      <td>...</td>\n",
       "      <td>...</td>\n",
       "      <td>...</td>\n",
       "      <td>...</td>\n",
       "      <td>...</td>\n",
       "      <td>...</td>\n",
       "      <td>...</td>\n",
       "      <td>...</td>\n",
       "      <td>...</td>\n",
       "      <td>...</td>\n",
       "      <td>...</td>\n",
       "    </tr>\n",
       "    <tr>\n",
       "      <th>1843</th>\n",
       "      <td>Dell Vostro 5301 Intel Core i5-1135G7/8GB/256G...</td>\n",
       "      <td>Refurbished</td>\n",
       "      <td>Dell</td>\n",
       "      <td>Vostro</td>\n",
       "      <td>Intel Core i5</td>\n",
       "      <td>8</td>\n",
       "      <td>256</td>\n",
       "      <td>SSD</td>\n",
       "      <td>NaN</td>\n",
       "      <td>13.3</td>\n",
       "      <td>No</td>\n",
       "      <td>420.74</td>\n",
       "    </tr>\n",
       "    <tr>\n",
       "      <th>1844</th>\n",
       "      <td>Dell Vostro 5301 Intel Core i5-1135G7/8GB/512G...</td>\n",
       "      <td>Refurbished</td>\n",
       "      <td>Dell</td>\n",
       "      <td>Vostro</td>\n",
       "      <td>Intel Core i5</td>\n",
       "      <td>8</td>\n",
       "      <td>512</td>\n",
       "      <td>SSD</td>\n",
       "      <td>NaN</td>\n",
       "      <td>13.3</td>\n",
       "      <td>No</td>\n",
       "      <td>511.59</td>\n",
       "    </tr>\n",
       "    <tr>\n",
       "      <th>1845</th>\n",
       "      <td>Dell Vostro 5502 Intel Core i5-1135G7/8GB/512G...</td>\n",
       "      <td>Refurbished</td>\n",
       "      <td>Dell</td>\n",
       "      <td>Vostro</td>\n",
       "      <td>Intel Core i5</td>\n",
       "      <td>8</td>\n",
       "      <td>512</td>\n",
       "      <td>SSD</td>\n",
       "      <td>NaN</td>\n",
       "      <td>15.6</td>\n",
       "      <td>No</td>\n",
       "      <td>549.93</td>\n",
       "    </tr>\n",
       "    <tr>\n",
       "      <th>1846</th>\n",
       "      <td>Dell XPS 13 9300 Intel Core i5-1035G1/8GB/512G...</td>\n",
       "      <td>Refurbished</td>\n",
       "      <td>Dell</td>\n",
       "      <td>XPS</td>\n",
       "      <td>Intel Core i5</td>\n",
       "      <td>8</td>\n",
       "      <td>512</td>\n",
       "      <td>SSD</td>\n",
       "      <td>NaN</td>\n",
       "      <td>13.4</td>\n",
       "      <td>No</td>\n",
       "      <td>699.00</td>\n",
       "    </tr>\n",
       "    <tr>\n",
       "      <th>1847</th>\n",
       "      <td>Dell XPS 7390 Intel Core i7-10510U/16GB/512GB ...</td>\n",
       "      <td>Refurbished</td>\n",
       "      <td>Dell</td>\n",
       "      <td>XPS</td>\n",
       "      <td>Intel Core i7</td>\n",
       "      <td>16</td>\n",
       "      <td>512</td>\n",
       "      <td>SSD</td>\n",
       "      <td>NaN</td>\n",
       "      <td>13.3</td>\n",
       "      <td>No</td>\n",
       "      <td>1086.88</td>\n",
       "    </tr>\n",
       "  </tbody>\n",
       "</table>\n",
       "<p>84 rows × 12 columns</p>\n",
       "</div>"
      ],
      "text/plain": [
       "                                                 Laptop       Status Brand  \\\n",
       "161   Dell Vostro 3510 Intel Core i3-1115G4/8 GB/256...          New  Dell   \n",
       "271   Dell Vostro 3510 Intel Core i5-1135G7/8 GB/256...          New  Dell   \n",
       "281   Dell Vostro 3520 Intel Core i7-1255U/16GB/512G...          New  Dell   \n",
       "319   Dell Latitude 3520 Intel Core i5-1135G7/8GB/25...          New  Dell   \n",
       "328   Dell Vostro 3510 Intel Core i5-1135G7/16 GB/51...          New  Dell   \n",
       "...                                                 ...          ...   ...   \n",
       "1843  Dell Vostro 5301 Intel Core i5-1135G7/8GB/256G...  Refurbished  Dell   \n",
       "1844  Dell Vostro 5301 Intel Core i5-1135G7/8GB/512G...  Refurbished  Dell   \n",
       "1845  Dell Vostro 5502 Intel Core i5-1135G7/8GB/512G...  Refurbished  Dell   \n",
       "1846  Dell XPS 13 9300 Intel Core i5-1035G1/8GB/512G...  Refurbished  Dell   \n",
       "1847  Dell XPS 7390 Intel Core i7-10510U/16GB/512GB ...  Refurbished  Dell   \n",
       "\n",
       "         Model            CPU  RAM  Storage Storage type  GPU  Screen Touch  \\\n",
       "161     Vostro  Intel Core i3    8      256          SSD  NaN    15.6    No   \n",
       "271     Vostro  Intel Core i5    8      256          SSD  NaN    15.6    No   \n",
       "281     Vostro  Intel Core i7   16      512          SSD  NaN    15.6    No   \n",
       "319   Latitude  Intel Core i5    8      256          SSD  NaN    15.6    No   \n",
       "328     Vostro  Intel Core i5   16      512          SSD  NaN    15.6    No   \n",
       "...        ...            ...  ...      ...          ...  ...     ...   ...   \n",
       "1843    Vostro  Intel Core i5    8      256          SSD  NaN    13.3    No   \n",
       "1844    Vostro  Intel Core i5    8      512          SSD  NaN    13.3    No   \n",
       "1845    Vostro  Intel Core i5    8      512          SSD  NaN    15.6    No   \n",
       "1846       XPS  Intel Core i5    8      512          SSD  NaN    13.4    No   \n",
       "1847       XPS  Intel Core i7   16      512          SSD  NaN    13.3    No   \n",
       "\n",
       "      Final Price  \n",
       "161        599.00  \n",
       "271        690.15  \n",
       "281        889.00  \n",
       "319        789.00  \n",
       "328        869.00  \n",
       "...           ...  \n",
       "1843       420.74  \n",
       "1844       511.59  \n",
       "1845       549.93  \n",
       "1846       699.00  \n",
       "1847      1086.88  \n",
       "\n",
       "[84 rows x 12 columns]"
      ]
     },
     "execution_count": 19,
     "metadata": {},
     "output_type": "execute_result"
    }
   ],
   "source": [
    "df_dell = df[df[\"Brand\"] == \"Dell\"]\n",
    "df_dell"
   ]
  },
  {
   "cell_type": "code",
   "execution_count": 24,
   "id": "002c6168-c215-4850-a667-5a1b58073937",
   "metadata": {},
   "outputs": [
    {
     "data": {
      "text/plain": [
       "Laptop          Dell Precision 5770 Intel Core i7-12700H/16GB/...\n",
       "Status                                                        New\n",
       "Brand                                                        Dell\n",
       "Model                                                   Precision\n",
       "CPU                                                 Intel Core i7\n",
       "RAM                                                            16\n",
       "Storage                                                       512\n",
       "Storage type                                                  SSD\n",
       "GPU                                                     RTX A2000\n",
       "Screen                                                       17.0\n",
       "Touch                                                         Yes\n",
       "Final Price                                                3936.0\n",
       "Name: 1335, dtype: object"
      ]
     },
     "execution_count": 24,
     "metadata": {},
     "output_type": "execute_result"
    }
   ],
   "source": [
    "df_dell.loc[df_dell['Final Price'].idxmax()]"
   ]
  },
  {
   "cell_type": "code",
   "execution_count": 27,
   "id": "4b583586-a5f3-4278-9d67-f05fd8b271b5",
   "metadata": {},
   "outputs": [
    {
     "data": {
      "text/plain": [
       "0       15.6\n",
       "1       15.6\n",
       "2       15.6\n",
       "3       15.6\n",
       "4       15.6\n",
       "        ... \n",
       "2155    17.3\n",
       "2156    17.3\n",
       "2157    17.3\n",
       "2158    13.4\n",
       "2159    13.4\n",
       "Name: Screen, Length: 2160, dtype: float64"
      ]
     },
     "execution_count": 27,
     "metadata": {},
     "output_type": "execute_result"
    }
   ],
   "source": [
    "df_screen = df[\"Screen\"]\n",
    "df_screen"
   ]
  },
  {
   "cell_type": "code",
   "execution_count": 28,
   "id": "7b9b893e-163d-4653-a31f-7b17e327d4e1",
   "metadata": {},
   "outputs": [
    {
     "data": {
      "text/plain": [
       "15.6"
      ]
     },
     "execution_count": 28,
     "metadata": {},
     "output_type": "execute_result"
    }
   ],
   "source": [
    "df_screen.median()"
   ]
  },
  {
   "cell_type": "code",
   "execution_count": 29,
   "id": "c399a7c2-226f-497f-bf5f-fe4ca0feb42c",
   "metadata": {},
   "outputs": [],
   "source": [
    "df_screen_modified = df_screen.fillna(df_screen.median()) "
   ]
  },
  {
   "cell_type": "code",
   "execution_count": 30,
   "id": "94bea11c-37d8-4f11-9b8e-b0ad5f3ff0cc",
   "metadata": {},
   "outputs": [
    {
     "data": {
      "text/plain": [
       "15.6"
      ]
     },
     "execution_count": 30,
     "metadata": {},
     "output_type": "execute_result"
    }
   ],
   "source": [
    "df_screen_modified.median()"
   ]
  },
  {
   "cell_type": "code",
   "execution_count": 31,
   "id": "97bcafb1-c130-4a87-848f-bcfbe0f42a74",
   "metadata": {},
   "outputs": [
    {
     "data": {
      "text/html": [
       "<div>\n",
       "<style scoped>\n",
       "    .dataframe tbody tr th:only-of-type {\n",
       "        vertical-align: middle;\n",
       "    }\n",
       "\n",
       "    .dataframe tbody tr th {\n",
       "        vertical-align: top;\n",
       "    }\n",
       "\n",
       "    .dataframe thead th {\n",
       "        text-align: right;\n",
       "    }\n",
       "</style>\n",
       "<table border=\"1\" class=\"dataframe\">\n",
       "  <thead>\n",
       "    <tr style=\"text-align: right;\">\n",
       "      <th></th>\n",
       "      <th>Laptop</th>\n",
       "      <th>Status</th>\n",
       "      <th>Brand</th>\n",
       "      <th>Model</th>\n",
       "      <th>CPU</th>\n",
       "      <th>RAM</th>\n",
       "      <th>Storage</th>\n",
       "      <th>Storage type</th>\n",
       "      <th>GPU</th>\n",
       "      <th>Screen</th>\n",
       "      <th>Touch</th>\n",
       "      <th>Final Price</th>\n",
       "    </tr>\n",
       "  </thead>\n",
       "  <tbody>\n",
       "    <tr>\n",
       "      <th>1478</th>\n",
       "      <td>InnJoo Voom Excellence Intel Celeron N4020/8GB...</td>\n",
       "      <td>New</td>\n",
       "      <td>Innjoo</td>\n",
       "      <td>Voom</td>\n",
       "      <td>Intel Celeron</td>\n",
       "      <td>8</td>\n",
       "      <td>256</td>\n",
       "      <td>SSD</td>\n",
       "      <td>NaN</td>\n",
       "      <td>15.6</td>\n",
       "      <td>No</td>\n",
       "      <td>311.37</td>\n",
       "    </tr>\n",
       "    <tr>\n",
       "      <th>1479</th>\n",
       "      <td>InnJoo Voom Excellence Pro Intel Celeron N4020...</td>\n",
       "      <td>New</td>\n",
       "      <td>Innjoo</td>\n",
       "      <td>Voom</td>\n",
       "      <td>Intel Celeron</td>\n",
       "      <td>8</td>\n",
       "      <td>512</td>\n",
       "      <td>SSD</td>\n",
       "      <td>NaN</td>\n",
       "      <td>15.6</td>\n",
       "      <td>No</td>\n",
       "      <td>392.55</td>\n",
       "    </tr>\n",
       "    <tr>\n",
       "      <th>1480</th>\n",
       "      <td>Innjoo Voom Intel Celeron N3350/4GB/64GB eMMC/...</td>\n",
       "      <td>New</td>\n",
       "      <td>Innjoo</td>\n",
       "      <td>Voom</td>\n",
       "      <td>Intel Celeron</td>\n",
       "      <td>4</td>\n",
       "      <td>64</td>\n",
       "      <td>eMMC</td>\n",
       "      <td>NaN</td>\n",
       "      <td>14.1</td>\n",
       "      <td>No</td>\n",
       "      <td>251.40</td>\n",
       "    </tr>\n",
       "    <tr>\n",
       "      <th>1481</th>\n",
       "      <td>Innjoo Voom Laptop Max Intel Celeron N3350/6GB...</td>\n",
       "      <td>New</td>\n",
       "      <td>Innjoo</td>\n",
       "      <td>Voom</td>\n",
       "      <td>Intel Celeron</td>\n",
       "      <td>6</td>\n",
       "      <td>64</td>\n",
       "      <td>eMMC</td>\n",
       "      <td>NaN</td>\n",
       "      <td>14.1</td>\n",
       "      <td>No</td>\n",
       "      <td>383.61</td>\n",
       "    </tr>\n",
       "    <tr>\n",
       "      <th>1482</th>\n",
       "      <td>Innjoo Voom Laptop Pro Intel Celeron N3350/6GB...</td>\n",
       "      <td>New</td>\n",
       "      <td>Innjoo</td>\n",
       "      <td>Voom</td>\n",
       "      <td>Intel Celeron</td>\n",
       "      <td>6</td>\n",
       "      <td>128</td>\n",
       "      <td>SSD</td>\n",
       "      <td>NaN</td>\n",
       "      <td>14.1</td>\n",
       "      <td>No</td>\n",
       "      <td>317.02</td>\n",
       "    </tr>\n",
       "    <tr>\n",
       "      <th>1483</th>\n",
       "      <td>Innjoo Voom Pro Intel Celeron N3350/6GB/128GB ...</td>\n",
       "      <td>New</td>\n",
       "      <td>Innjoo</td>\n",
       "      <td>Voom</td>\n",
       "      <td>Intel Celeron</td>\n",
       "      <td>6</td>\n",
       "      <td>128</td>\n",
       "      <td>eMMC</td>\n",
       "      <td>NaN</td>\n",
       "      <td>14.1</td>\n",
       "      <td>No</td>\n",
       "      <td>431.38</td>\n",
       "    </tr>\n",
       "  </tbody>\n",
       "</table>\n",
       "</div>"
      ],
      "text/plain": [
       "                                                 Laptop Status   Brand Model  \\\n",
       "1478  InnJoo Voom Excellence Intel Celeron N4020/8GB...    New  Innjoo  Voom   \n",
       "1479  InnJoo Voom Excellence Pro Intel Celeron N4020...    New  Innjoo  Voom   \n",
       "1480  Innjoo Voom Intel Celeron N3350/4GB/64GB eMMC/...    New  Innjoo  Voom   \n",
       "1481  Innjoo Voom Laptop Max Intel Celeron N3350/6GB...    New  Innjoo  Voom   \n",
       "1482  Innjoo Voom Laptop Pro Intel Celeron N3350/6GB...    New  Innjoo  Voom   \n",
       "1483  Innjoo Voom Pro Intel Celeron N3350/6GB/128GB ...    New  Innjoo  Voom   \n",
       "\n",
       "                CPU  RAM  Storage Storage type  GPU  Screen Touch  Final Price  \n",
       "1478  Intel Celeron    8      256          SSD  NaN    15.6    No       311.37  \n",
       "1479  Intel Celeron    8      512          SSD  NaN    15.6    No       392.55  \n",
       "1480  Intel Celeron    4       64         eMMC  NaN    14.1    No       251.40  \n",
       "1481  Intel Celeron    6       64         eMMC  NaN    14.1    No       383.61  \n",
       "1482  Intel Celeron    6      128          SSD  NaN    14.1    No       317.02  \n",
       "1483  Intel Celeron    6      128         eMMC  NaN    14.1    No       431.38  "
      ]
     },
     "execution_count": 31,
     "metadata": {},
     "output_type": "execute_result"
    }
   ],
   "source": [
    "df_Innjoo = df[df[\"Brand\"] == \"Innjoo\"]\n",
    "df_Innjoo"
   ]
  },
  {
   "cell_type": "code",
   "execution_count": 32,
   "id": "ca3f29a5-a51e-4243-b09f-8d6cf23af339",
   "metadata": {},
   "outputs": [],
   "source": [
    "df_Innjoo = df_Innjoo[[\"RAM\", \"Storage\", \"Screen\"]]"
   ]
  },
  {
   "cell_type": "code",
   "execution_count": 33,
   "id": "e3799a91-1732-4246-bc1b-429fcaaaaaae",
   "metadata": {},
   "outputs": [
    {
     "data": {
      "text/html": [
       "<div>\n",
       "<style scoped>\n",
       "    .dataframe tbody tr th:only-of-type {\n",
       "        vertical-align: middle;\n",
       "    }\n",
       "\n",
       "    .dataframe tbody tr th {\n",
       "        vertical-align: top;\n",
       "    }\n",
       "\n",
       "    .dataframe thead th {\n",
       "        text-align: right;\n",
       "    }\n",
       "</style>\n",
       "<table border=\"1\" class=\"dataframe\">\n",
       "  <thead>\n",
       "    <tr style=\"text-align: right;\">\n",
       "      <th></th>\n",
       "      <th>RAM</th>\n",
       "      <th>Storage</th>\n",
       "      <th>Screen</th>\n",
       "    </tr>\n",
       "  </thead>\n",
       "  <tbody>\n",
       "    <tr>\n",
       "      <th>1478</th>\n",
       "      <td>8</td>\n",
       "      <td>256</td>\n",
       "      <td>15.6</td>\n",
       "    </tr>\n",
       "    <tr>\n",
       "      <th>1479</th>\n",
       "      <td>8</td>\n",
       "      <td>512</td>\n",
       "      <td>15.6</td>\n",
       "    </tr>\n",
       "    <tr>\n",
       "      <th>1480</th>\n",
       "      <td>4</td>\n",
       "      <td>64</td>\n",
       "      <td>14.1</td>\n",
       "    </tr>\n",
       "    <tr>\n",
       "      <th>1481</th>\n",
       "      <td>6</td>\n",
       "      <td>64</td>\n",
       "      <td>14.1</td>\n",
       "    </tr>\n",
       "    <tr>\n",
       "      <th>1482</th>\n",
       "      <td>6</td>\n",
       "      <td>128</td>\n",
       "      <td>14.1</td>\n",
       "    </tr>\n",
       "    <tr>\n",
       "      <th>1483</th>\n",
       "      <td>6</td>\n",
       "      <td>128</td>\n",
       "      <td>14.1</td>\n",
       "    </tr>\n",
       "  </tbody>\n",
       "</table>\n",
       "</div>"
      ],
      "text/plain": [
       "      RAM  Storage  Screen\n",
       "1478    8      256    15.6\n",
       "1479    8      512    15.6\n",
       "1480    4       64    14.1\n",
       "1481    6       64    14.1\n",
       "1482    6      128    14.1\n",
       "1483    6      128    14.1"
      ]
     },
     "execution_count": 33,
     "metadata": {},
     "output_type": "execute_result"
    }
   ],
   "source": [
    "df_Innjoo"
   ]
  },
  {
   "cell_type": "code",
   "execution_count": 34,
   "id": "22220368-9f1b-4898-b07c-cd30ed02a8c6",
   "metadata": {},
   "outputs": [
    {
     "data": {
      "text/plain": [
       "array([[  8. , 256. ,  15.6],\n",
       "       [  8. , 512. ,  15.6],\n",
       "       [  4. ,  64. ,  14.1],\n",
       "       [  6. ,  64. ,  14.1],\n",
       "       [  6. , 128. ,  14.1],\n",
       "       [  6. , 128. ,  14.1]])"
      ]
     },
     "execution_count": 34,
     "metadata": {},
     "output_type": "execute_result"
    }
   ],
   "source": [
    "X = df_Innjoo.values\n",
    "X"
   ]
  },
  {
   "cell_type": "code",
   "execution_count": 36,
   "id": "e36ab425-ed53-4ce1-add7-43391e73de1a",
   "metadata": {},
   "outputs": [
    {
     "data": {
      "text/plain": [
       "array([[  8. ,   8. ,   4. ,   6. ,   6. ,   6. ],\n",
       "       [256. , 512. ,  64. ,  64. , 128. , 128. ],\n",
       "       [ 15.6,  15.6,  14.1,  14.1,  14.1,  14.1]])"
      ]
     },
     "execution_count": 36,
     "metadata": {},
     "output_type": "execute_result"
    }
   ],
   "source": [
    "XT = X.T\n",
    "XT"
   ]
  },
  {
   "cell_type": "code",
   "execution_count": 37,
   "id": "3d2bdfb2-c949-4fb0-a9e9-3ebdc4a07adf",
   "metadata": {},
   "outputs": [
    {
     "data": {
      "text/plain": [
       "array([[2.52000e+02, 8.32000e+03, 5.59800e+02],\n",
       "       [8.32000e+03, 3.68640e+05, 1.73952e+04],\n",
       "       [5.59800e+02, 1.73952e+04, 1.28196e+03]])"
      ]
     },
     "execution_count": 37,
     "metadata": {},
     "output_type": "execute_result"
    }
   ],
   "source": [
    "XTX = XT.dot(X)\n",
    "XTX"
   ]
  },
  {
   "cell_type": "code",
   "execution_count": 38,
   "id": "32c468a3-0562-4d14-bf91-34d3e42f2807",
   "metadata": {},
   "outputs": [
    {
     "data": {
      "text/plain": [
       "array([[ 2.78025381e-01, -1.51791334e-03, -1.00809855e-01],\n",
       "       [-1.51791334e-03,  1.58286725e-05,  4.48052175e-04],\n",
       "       [-1.00809855e-01,  4.48052175e-04,  3.87214888e-02]])"
      ]
     },
     "execution_count": 38,
     "metadata": {},
     "output_type": "execute_result"
    }
   ],
   "source": [
    "XTX_inv = np.linalg.inv(XTX)\n",
    "XTX_inv"
   ]
  },
  {
   "cell_type": "code",
   "execution_count": 40,
   "id": "07067baf-447e-4286-ab84-fa9ab2ad636d",
   "metadata": {},
   "outputs": [
    {
     "data": {
      "text/plain": [
       "array([1100, 1300,  800,  900, 1000, 1100])"
      ]
     },
     "execution_count": 40,
     "metadata": {},
     "output_type": "execute_result"
    }
   ],
   "source": [
    "y = np.array([1100, 1300, 800, 900, 1000, 1100])\n",
    "y"
   ]
  },
  {
   "cell_type": "code",
   "execution_count": 42,
   "id": "745bd155-cf36-4516-a0f1-8b3fe833ad61",
   "metadata": {},
   "outputs": [
    {
     "data": {
      "text/plain": [
       "array([[ 0.26298349, -0.12560233, -0.40646389,  0.14958687,  0.05244042,\n",
       "         0.05244042],\n",
       "       [-0.00110155,  0.00295059,  0.00125892, -0.00177691, -0.00076387,\n",
       "        -0.00076387],\n",
       "       [-0.08772226,  0.0269791 ,  0.17140891, -0.0302108 , -0.00153546,\n",
       "        -0.00153546]])"
      ]
     },
     "execution_count": 42,
     "metadata": {},
     "output_type": "execute_result"
    }
   ],
   "source": [
    "XTX_inv_XT = XTX_inv.dot(XT)\n",
    "XTX_inv_XT"
   ]
  },
  {
   "cell_type": "code",
   "execution_count": 44,
   "id": "d821d137-1ba7-405e-911d-b443ae2c2fb7",
   "metadata": {},
   "outputs": [
    {
     "data": {
      "text/plain": [
       "array([45.58076606,  0.42783519, 45.29127938])"
      ]
     },
     "execution_count": 44,
     "metadata": {},
     "output_type": "execute_result"
    }
   ],
   "source": [
    "w = XTX_inv_XT.dot(y)\n",
    "w"
   ]
  },
  {
   "cell_type": "code",
   "execution_count": 45,
   "id": "4de27a00-bbeb-4cb8-ac13-8e8fa3ef6690",
   "metadata": {},
   "outputs": [
    {
     "data": {
      "text/plain": [
       "91.2998806299555"
      ]
     },
     "execution_count": 45,
     "metadata": {},
     "output_type": "execute_result"
    }
   ],
   "source": [
    "np.sum(w)"
   ]
  }
 ],
 "metadata": {
  "kernelspec": {
   "display_name": "Python 3 (ipykernel)",
   "language": "python",
   "name": "python3"
  },
  "language_info": {
   "codemirror_mode": {
    "name": "ipython",
    "version": 3
   },
   "file_extension": ".py",
   "mimetype": "text/x-python",
   "name": "python",
   "nbconvert_exporter": "python",
   "pygments_lexer": "ipython3",
   "version": "3.11.9"
  }
 },
 "nbformat": 4,
 "nbformat_minor": 5
}
